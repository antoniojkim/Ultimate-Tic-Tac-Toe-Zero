{
 "cells": [
  {
   "cell_type": "code",
   "execution_count": 1,
   "metadata": {},
   "outputs": [],
   "source": [
    "import os\n",
    "\n",
    "games = []\n",
    "\n",
    "for path in os.listdir():\n",
    "    if (path.endswith(\"txt\")):\n",
    "        with open(path) as file:\n",
    "            games.extend([row.strip() for row in file])"
   ]
  },
  {
   "cell_type": "code",
   "execution_count": 2,
   "metadata": {},
   "outputs": [
    {
     "name": "stdout",
     "output_type": "stream",
     "text": [
      "8090\n",
      "7581\n"
     ]
    }
   ],
   "source": [
    "print(len(games))\n",
    "print(len(set(games)))\n",
    "\n",
    "games = list(set(games))"
   ]
  },
  {
   "cell_type": "code",
   "execution_count": 3,
   "metadata": {},
   "outputs": [],
   "source": [
    "import sys\n",
    "sys.path.append(\"../../../../\")\n",
    "\n",
    "from UTTT import rot90\n",
    "\n",
    "import multiprocessing\n",
    "cpus = 7 # multiprocessing.cpu_count()\n",
    "\n",
    "def compute(processor, points, constructor=tuple):\n",
    "    pool = multiprocessing.Pool(processes=cpus)\n",
    "    TASKS = [constructor(p) for p in points]\n",
    "    return [p for out in pool.starmap(processor, TASKS) for p in out]"
   ]
  },
  {
   "cell_type": "code",
   "execution_count": 4,
   "metadata": {},
   "outputs": [],
   "source": [
    "def rotateGame(game):\n",
    "    \n",
    "    rotated_games = []\n",
    "    for k in range(0, 4):\n",
    "        for flip in [False, True]:\n",
    "            rotated_game = \"\"\n",
    "            for i in range(0, len(game), 2):\n",
    "                if (game[i] == \":\"):                        \n",
    "                    rotated_game += f\"{game[i:]}\"\n",
    "                    break\n",
    "                    \n",
    "                else:\n",
    "                    g = int(game[i])\n",
    "                    l = int(game[i+1])\n",
    "                    rotated_game += \"\".join(map(str, rot90(g, l, k, flip)))\n",
    "                    \n",
    "            rotated_games.append(rotated_game)\n",
    "            \n",
    "    return rotated_games\n",
    "            \n",
    "rotated_games = compute(rotateGame, games, constructor=lambda g:(g,))"
   ]
  },
  {
   "cell_type": "code",
   "execution_count": 5,
   "metadata": {},
   "outputs": [
    {
     "name": "stdout",
     "output_type": "stream",
     "text": [
      "60648\n",
      "60648\n",
      "Average Number of Data Points:   6671280\n",
      "\n",
      "Num P1 Wins:   27296\n",
      "Num P2 Wins:   15264\n",
      "Num Ties:      18088\n"
     ]
    }
   ],
   "source": [
    "print(len(rotated_games))\n",
    "print(len(set(rotated_games)))\n",
    "print(\"Average Number of Data Points:  \", len(set(rotated_games))*55*2)\n",
    "\n",
    "numP1Wins = 0\n",
    "numP2Wins = 0\n",
    "numTies = 0\n",
    "\n",
    "for game in rotated_games:\n",
    "    if game.endswith(\":1\"):\n",
    "        numP1Wins += 1\n",
    "    elif game.endswith(\":2\"):\n",
    "        numP2Wins += 1\n",
    "    else:\n",
    "        numTies += 1\n",
    "\n",
    "print()\n",
    "print(\"Num P1 Wins:  \", numP1Wins)\n",
    "print(\"Num P2 Wins:  \", numP2Wins)\n",
    "print(\"Num Ties:     \", numTies)\n"
   ]
  }
 ],
 "metadata": {
  "kernelspec": {
   "display_name": "Python 3",
   "language": "python",
   "name": "python3"
  },
  "language_info": {
   "codemirror_mode": {
    "name": "ipython",
    "version": 3
   },
   "file_extension": ".py",
   "mimetype": "text/x-python",
   "name": "python",
   "nbconvert_exporter": "python",
   "pygments_lexer": "ipython3",
   "version": "3.7.1"
  }
 },
 "nbformat": 4,
 "nbformat_minor": 2
}
