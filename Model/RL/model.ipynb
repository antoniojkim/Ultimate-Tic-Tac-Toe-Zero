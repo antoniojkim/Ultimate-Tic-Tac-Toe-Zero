{
 "cells": [
  {
   "cell_type": "markdown",
   "metadata": {},
   "source": [
    "# Ultimate-Tic-Tac-Toe-Zero Model"
   ]
  },
  {
   "cell_type": "code",
   "execution_count": 1,
   "metadata": {},
   "outputs": [],
   "source": [
    "import os\n",
    "import sys\n",
    "\n",
    "import numpy as np\n",
    "import torch\n",
    "import torchx\n",
    "from multiprocessor.multiprocessor import Multiprocessor"
   ]
  },
  {
   "cell_type": "code",
   "execution_count": 2,
   "metadata": {},
   "outputs": [],
   "source": [
    "sys.path.append(\"../../UTTT/Python\")"
   ]
  },
  {
   "cell_type": "code",
   "execution_count": 3,
   "metadata": {},
   "outputs": [],
   "source": [
    "from MCTS import MCTS\n",
    "from UTTT import UTTT"
   ]
  },
  {
   "cell_type": "markdown",
   "metadata": {},
   "source": [
    "## Environment"
   ]
  },
  {
   "cell_type": "code",
   "execution_count": 4,
   "metadata": {},
   "outputs": [],
   "source": [
    "def MCTS_numpy_board(m: MCTS):\n",
    "    board = np.zeros((9, 3, 3))\n",
    "    for i in range(9):\n",
    "        for j in range(9):\n",
    "            p = m[i, j]\n",
    "            if p == UTTT.P1:\n",
    "                p = 1\n",
    "            elif p == UTTT.P2:\n",
    "                p = -1\n",
    "            else:\n",
    "                p = 0\n",
    "                \n",
    "            board[i, j//3, j%3] = p\n",
    "            \n",
    "    return board"
   ]
  },
  {
   "cell_type": "code",
   "execution_count": 15,
   "metadata": {},
   "outputs": [],
   "source": [
    "def select_expand(games):\n",
    "    return [g.select().expand() for g, m in games]\n",
    "\n",
    "class Environment:\n",
    "    def __init__(self, num_games=1000, num_iterations=400):\n",
    "        self.num_games = num_games\n",
    "        self.num_iterations = num_iterations\n",
    "        \n",
    "    def reset(self):\n",
    "        self.games = [(MCTS(), []) for i in range(self.num_games)]\n",
    "        self.finished_games = []\n",
    "        self.iteration = 0\n",
    "        self.leaves = None\n",
    "        \n",
    "    def __enter__(self):\n",
    "        self.reset()\n",
    "        return self\n",
    "    \n",
    "    def __bool__(self):\n",
    "        return hasattr(self, \"games\") and len(self.games) > 0\n",
    "    \n",
    "    def __next__(self):\n",
    "        self.iteration += 1\n",
    "#         self.leaves = [\n",
    "#             l\n",
    "#             for leaves in Multiprocessor(cpus=10).process(select_expand, self.games)\n",
    "#             for l in leaves \n",
    "#         ]\n",
    "        self.leaves = select_expand(self.games)\n",
    "        return np.array([MCTS_numpy_board(l) for l in self.leaves])\n",
    "            \n",
    "    def step(self, winners):\n",
    "        assert len(winners) == len(self.leaves)\n",
    "        for leaf, winner in zip(self.leaves, winners):\n",
    "            leaf.backprop(winner)\n",
    "            \n",
    "        self.leaves = None\n",
    "        \n",
    "        if self.iteration > self.num_iterations:\n",
    "            self.iteration = 0\n",
    "            for game, moves in self.games:\n",
    "                moves.append(game.make_move())\n",
    "                \n",
    "            self.finished_games.extend([(game, moves) for game, moves in self.games if game.winner != UTTT.N])\n",
    "            self.games = [(game, moves) for game, moves in self.games if game.winner == UTTT.N]"
   ]
  },
  {
   "cell_type": "code",
   "execution_count": 16,
   "metadata": {},
   "outputs": [
    {
     "name": "stdout",
     "output_type": "stream",
     "text": [
      "CPU times: user 26.4 s, sys: 0 ns, total: 26.4 s\n",
      "Wall time: 26.4 s\n"
     ]
    }
   ],
   "source": [
    "# %%time\n",
    "# env = Environment(num_games=25, num_iterations=400)\n",
    "# env.reset()\n",
    "# i = 0\n",
    "# while env:\n",
    "#     boards = next(env)\n",
    "#     winners = np.random.choice((UTTT.T, UTTT.P1, UTTT.P2), size=len(env.leaves))\n",
    "#     env.step(winners)"
   ]
  },
  {
   "cell_type": "markdown",
   "metadata": {},
   "source": [
    "## Model"
   ]
  },
  {
   "cell_type": "code",
   "execution_count": 8,
   "metadata": {},
   "outputs": [],
   "source": [
    "device = torch.device(\"cuda:0\" if torch.cuda.is_available() else \"cpu\")\n",
    "\n",
    "def to_device(obj):\n",
    "    return obj.to(device)"
   ]
  },
  {
   "cell_type": "code",
   "execution_count": 9,
   "metadata": {},
   "outputs": [],
   "source": [
    "class DeepUTTT(torchx.nn.Module):\n",
    "    def __init__(self):\n",
    "        super().__init__()\n",
    "        \n",
    "        self.block1 = torch.nn.Sequential(\n",
    "            torchx.nn.Conv2dBatch(9, 64, kernel_size=1),\n",
    "            torchx.nn.Conv2dBatch(64, 128, kernel_size=1),\n",
    "            torchx.nn.Conv2dBatch(128, 256, kernel_size=2),\n",
    "        )\n",
    "        self.block2 = torch.nn.Sequential(\n",
    "            *[\n",
    "                torch.nn.Sequential(\n",
    "                    torchx.nn.Conv2dBatch(256, 512, kernel_size=1),\n",
    "                    torchx.nn.Conv2dBatch(512, 256, kernel_size=1),\n",
    "                )\n",
    "                for i in range(3)\n",
    "            ],\n",
    "            torchx.nn.Conv2dBatch(256, 512, kernel_size=1),\n",
    "            torchx.nn.Conv2dBatch(512, 1024, kernel_size=2),\n",
    "        )\n",
    "        self.winner_predict_block = torch.nn.Sequential(\n",
    "            torch.nn.Linear(1024, 256, bias=False),\n",
    "            torch.nn.ReLU(inplace=True),\n",
    "            torch.nn.Linear(256, 3, bias=False),\n",
    "        )\n",
    "        \n",
    "        self.reset_parameters()\n",
    "        \n",
    "    def forward(self, x):\n",
    "        x = self.block1(x)\n",
    "        x = self.block2(x)\n",
    "        x = torch.flatten(x, 1)\n",
    "        return self.winner_predict_block(x)\n",
    "    \n",
    "model = DeepUTTT()\n",
    "model = to_device(model)"
   ]
  },
  {
   "cell_type": "code",
   "execution_count": 11,
   "metadata": {},
   "outputs": [
    {
     "data": {
      "text/plain": [
       "3430272"
      ]
     },
     "execution_count": 11,
     "metadata": {},
     "output_type": "execute_result"
    }
   ],
   "source": [
    "model.num_params()"
   ]
  },
  {
   "cell_type": "code",
   "execution_count": 10,
   "metadata": {},
   "outputs": [],
   "source": [
    "data = torch.from_numpy(np.random.randint(-1, 2, size=(512, 9, 3, 3))).float()\n",
    "data = to_device(data)"
   ]
  },
  {
   "cell_type": "code",
   "execution_count": 12,
   "metadata": {},
   "outputs": [
    {
     "name": "stdout",
     "output_type": "stream",
     "text": [
      "2.37 ms ± 6.93 µs per loop (mean ± std. dev. of 7 runs, 100 loops each)\n"
     ]
    }
   ],
   "source": [
    "%%timeit\n",
    "output = model.forward(data)"
   ]
  },
  {
   "cell_type": "code",
   "execution_count": null,
   "metadata": {},
   "outputs": [],
   "source": []
  }
 ],
 "metadata": {
  "kernelspec": {
   "display_name": "Python 3",
   "language": "python",
   "name": "python3"
  },
  "language_info": {
   "codemirror_mode": {
    "name": "ipython",
    "version": 3
   },
   "file_extension": ".py",
   "mimetype": "text/x-python",
   "name": "python",
   "nbconvert_exporter": "python",
   "pygments_lexer": "ipython3",
   "version": "3.7.1"
  }
 },
 "nbformat": 4,
 "nbformat_minor": 4
}
